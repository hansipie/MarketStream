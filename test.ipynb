{
 "cells": [
  {
   "cell_type": "code",
   "execution_count": 88,
   "metadata": {},
   "outputs": [],
   "source": [
    "import json"
   ]
  },
  {
   "cell_type": "code",
   "execution_count": 89,
   "metadata": {},
   "outputs": [],
   "source": [
    "idmap = json.loads(open(\"./data/cmc_idmap.json\", encoding=\"UTF-8\").read())"
   ]
  },
  {
   "cell_type": "code",
   "execution_count": 90,
   "metadata": {},
   "outputs": [],
   "source": [
    "def getCoinID(symbol: str):\n",
    "    return [item[\"id\"] for item in idmap[\"data\"] if item[\"symbol\"] == symbol]"
   ]
  },
  {
   "cell_type": "code",
   "execution_count": 91,
   "metadata": {},
   "outputs": [
    {
     "name": "stdout",
     "output_type": "stream",
     "text": [
      "[1, 30938, 1027, 29991]\n"
     ]
    }
   ],
   "source": [
    "symbols = [\"BTC\",\"ETH\"]\n",
    "list = []\n",
    "for symbol in symbols:\n",
    "    id = getCoinID(symbol)\n",
    "    list.extend(id)\n",
    "print(list)\n"
   ]
  },
  {
   "cell_type": "code",
   "execution_count": 92,
   "metadata": {},
   "outputs": [
    {
     "name": "stdout",
     "output_type": "stream",
     "text": [
      "['1', '30938', '1027', '29991']\n"
     ]
    }
   ],
   "source": [
    "int_symbols = [str(i) for i in list]\n",
    "print(int_symbols)\n"
   ]
  },
  {
   "cell_type": "code",
   "execution_count": 93,
   "metadata": {},
   "outputs": [
    {
     "name": "stdout",
     "output_type": "stream",
     "text": [
      "1,30938,1027,29991\n"
     ]
    }
   ],
   "source": [
    "print(\",\".join(int_symbols))"
   ]
  }
 ],
 "metadata": {
  "kernelspec": {
   "display_name": ".venv",
   "language": "python",
   "name": "python3"
  },
  "language_info": {
   "codemirror_mode": {
    "name": "ipython",
    "version": 3
   },
   "file_extension": ".py",
   "mimetype": "text/x-python",
   "name": "python",
   "nbconvert_exporter": "python",
   "pygments_lexer": "ipython3",
   "version": "3.12.2"
  }
 },
 "nbformat": 4,
 "nbformat_minor": 2
}
